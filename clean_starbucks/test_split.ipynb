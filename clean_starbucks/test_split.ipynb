{
 "cells": [
  {
   "cell_type": "code",
   "execution_count": 1,
   "id": "2b81b167",
   "metadata": {},
   "outputs": [
    {
     "name": "stdout",
     "output_type": "stream",
     "text": [
      "No regex pattern specified. Nothing done.\n"
     ]
    }
   ],
   "source": [
    "import pandas as pd\n",
    "import numpy as np\n",
    "import re\n",
    "pd.options.mode.chained_assignment = None  # default='warn'\n"
   ]
  },
  {
   "cell_type": "code",
   "execution_count": 79,
   "id": "adec54e0",
   "metadata": {},
   "outputs": [],
   "source": [
    "%reset_selective -f time"
   ]
  },
  {
   "cell_type": "code",
   "execution_count": 82,
   "id": "5533e2e8",
   "metadata": {},
   "outputs": [
    {
     "name": "stdout",
     "output_type": "stream",
     "text": [
      "                       A                               B              C  \\\n",
      "x                                                                         \n",
      "1   [{'dayName': 'Today'   'hours': '5:30 AM to 8:00 PM'   'open': True   \n",
      "2                    NaN                             NaN            NaN   \n",
      "3   [{'dayName': 'Today'   'hours': '5:00 AM to 8:00 PM'   'open': True   \n",
      "4                    NaN                             NaN            NaN   \n",
      "5  'dayName': 'Tomorrow'   'hours': '5:00 AM to 8:00 PM'   'open': True   \n",
      "6                    NaN                          Closed            NaN   \n",
      "\n",
      "                D  \n",
      "x                  \n",
      "1   'holiday': ''  \n",
      "2             NaN  \n",
      "3   'holiday': ''  \n",
      "4             NaN  \n",
      "5   'holiday': ''  \n",
      "6             NaN  \n",
      "<class 'pandas.core.frame.DataFrame'>\n"
     ]
    }
   ],
   "source": [
    "test = pd.read_csv(\"test2.csv\",',',index_col = 'x')\n",
    "print(test)\n",
    "print(type(test))"
   ]
  },
  {
   "cell_type": "code",
   "execution_count": 83,
   "id": "a9211c35",
   "metadata": {},
   "outputs": [
    {
     "name": "stdout",
     "output_type": "stream",
     "text": [
      "<class 'pandas.core.series.Series'>\n"
     ]
    },
    {
     "data": {
      "text/plain": [
       "x\n",
       "1     'hours': '5:30 AM to 8:00 PM'\n",
       "2                               NaN\n",
       "3     'hours': '5:00 AM to 8:00 PM'\n",
       "4                               NaN\n",
       "5     'hours': '5:00 AM to 8:00 PM'\n",
       "6                            Closed\n",
       "Name: B, dtype: object"
      ]
     },
     "execution_count": 83,
     "metadata": {},
     "output_type": "execute_result"
    }
   ],
   "source": [
    "test2 = test['B'].copy()\n",
    "print(type(test2))\n",
    "test2"
   ]
  },
  {
   "cell_type": "code",
   "execution_count": 113,
   "id": "7e07c95a",
   "metadata": {},
   "outputs": [
    {
     "name": "stdout",
     "output_type": "stream",
     "text": [
      "     Open   Close No_service\n",
      "x                           \n",
      "1   05:30   20:00        NaN\n",
      "2     NaN     NaN        NaN\n",
      "3   05:00   20:00        NaN\n",
      "4     NaN     NaN        NaN\n",
      "5   05:00   20:00        NaN\n",
      "6  Closed  Closed     Closed\n"
     ]
    }
   ],
   "source": [
    "time = test2.str.extract(r'(?P<Open>\\d{1,2}[:]\\d{2}\\s\\wM)').copy()\n",
    "time['Close'] = test2.str.extract(r'(?P<to>\\sto\\s)(?P<Close>\\d{1,2}[:]\\d{2}\\s\\wM)')['Close'].copy()\n",
    "time['No_service'] = test2.str.extract(r'(?P<No_service>Closed)')['No_service'].copy()\n",
    "time['Open'] = pd.to_datetime(time['Open']).dt.strftime('%H:%M')\n",
    "time['Close'] = pd.to_datetime(time['Close']).dt.strftime('%H:%M')\n",
    "filter = (time['No_service'] == 'Closed')\n",
    "time.loc[filter,('Open', 'Close')] = time.loc[filter,('Open', 'Close')].fillna('Closed')\n",
    "print(time)\n",
    "#print(time2)"
   ]
  },
  {
   "cell_type": "code",
   "execution_count": 118,
   "id": "4e534d5a",
   "metadata": {},
   "outputs": [
    {
     "name": "stdout",
     "output_type": "stream",
     "text": [
      "x\n",
      "1     [{'dayName': 'Today'\n",
      "2                      NaN\n",
      "3     [{'dayName': 'Today'\n",
      "4                      NaN\n",
      "5    'dayName': 'Tomorrow'\n",
      "6                      NaN\n",
      "Name: A, dtype: object\n"
     ]
    },
    {
     "data": {
      "text/html": [
       "<div>\n",
       "<style scoped>\n",
       "    .dataframe tbody tr th:only-of-type {\n",
       "        vertical-align: middle;\n",
       "    }\n",
       "\n",
       "    .dataframe tbody tr th {\n",
       "        vertical-align: top;\n",
       "    }\n",
       "\n",
       "    .dataframe thead th {\n",
       "        text-align: right;\n",
       "    }\n",
       "</style>\n",
       "<table border=\"1\" class=\"dataframe\">\n",
       "  <thead>\n",
       "    <tr style=\"text-align: right;\">\n",
       "      <th></th>\n",
       "      <th>A</th>\n",
       "      <th>B</th>\n",
       "      <th>C</th>\n",
       "      <th>D</th>\n",
       "      <th>A_open</th>\n",
       "      <th>A_close</th>\n",
       "    </tr>\n",
       "    <tr>\n",
       "      <th>x</th>\n",
       "      <th></th>\n",
       "      <th></th>\n",
       "      <th></th>\n",
       "      <th></th>\n",
       "      <th></th>\n",
       "      <th></th>\n",
       "    </tr>\n",
       "  </thead>\n",
       "  <tbody>\n",
       "    <tr>\n",
       "      <th>1</th>\n",
       "      <td>[{'dayName': 'Today'</td>\n",
       "      <td>'hours': '5:30 AM to 8:00 PM'</td>\n",
       "      <td>'open': True</td>\n",
       "      <td>'holiday': ''</td>\n",
       "      <td>NaN</td>\n",
       "      <td>NaN</td>\n",
       "    </tr>\n",
       "    <tr>\n",
       "      <th>2</th>\n",
       "      <td>NaN</td>\n",
       "      <td>NaN</td>\n",
       "      <td>NaN</td>\n",
       "      <td>NaN</td>\n",
       "      <td>NaN</td>\n",
       "      <td>NaN</td>\n",
       "    </tr>\n",
       "    <tr>\n",
       "      <th>3</th>\n",
       "      <td>[{'dayName': 'Today'</td>\n",
       "      <td>'hours': '5:00 AM to 8:00 PM'</td>\n",
       "      <td>'open': True</td>\n",
       "      <td>'holiday': ''</td>\n",
       "      <td>NaN</td>\n",
       "      <td>NaN</td>\n",
       "    </tr>\n",
       "    <tr>\n",
       "      <th>4</th>\n",
       "      <td>NaN</td>\n",
       "      <td>NaN</td>\n",
       "      <td>NaN</td>\n",
       "      <td>NaN</td>\n",
       "      <td>NaN</td>\n",
       "      <td>NaN</td>\n",
       "    </tr>\n",
       "    <tr>\n",
       "      <th>5</th>\n",
       "      <td>'dayName': 'Tomorrow'</td>\n",
       "      <td>'hours': '5:00 AM to 8:00 PM'</td>\n",
       "      <td>'open': True</td>\n",
       "      <td>'holiday': ''</td>\n",
       "      <td>NaN</td>\n",
       "      <td>NaN</td>\n",
       "    </tr>\n",
       "    <tr>\n",
       "      <th>6</th>\n",
       "      <td>NaN</td>\n",
       "      <td>Closed</td>\n",
       "      <td>NaN</td>\n",
       "      <td>NaN</td>\n",
       "      <td>NaN</td>\n",
       "      <td>NaN</td>\n",
       "    </tr>\n",
       "  </tbody>\n",
       "</table>\n",
       "</div>"
      ],
      "text/plain": [
       "                       A                               B              C  \\\n",
       "x                                                                         \n",
       "1   [{'dayName': 'Today'   'hours': '5:30 AM to 8:00 PM'   'open': True   \n",
       "2                    NaN                             NaN            NaN   \n",
       "3   [{'dayName': 'Today'   'hours': '5:00 AM to 8:00 PM'   'open': True   \n",
       "4                    NaN                             NaN            NaN   \n",
       "5  'dayName': 'Tomorrow'   'hours': '5:00 AM to 8:00 PM'   'open': True   \n",
       "6                    NaN                          Closed            NaN   \n",
       "\n",
       "                D  A_open  A_close  \n",
       "x                                   \n",
       "1   'holiday': ''     NaN      NaN  \n",
       "2             NaN     NaN      NaN  \n",
       "3   'holiday': ''     NaN      NaN  \n",
       "4             NaN     NaN      NaN  \n",
       "5   'holiday': ''     NaN      NaN  \n",
       "6             NaN     NaN      NaN  "
      ]
     },
     "execution_count": 118,
     "metadata": {},
     "output_type": "execute_result"
    }
   ],
   "source": [
    "def get_schedule(schedule):\n",
    "    print(schedule)\n",
    "    time = schedule.str.extract(r'(?P<Open>\\d{1,2}[:]\\d{2}\\s\\wM)').copy()\n",
    "    time['Close'] = schedule.str.extract(r'(?P<to>\\sto\\s)(?P<Close>\\d{1,2}[:]\\d{2}\\s\\wM)')['Close'].copy()\n",
    "    time['No_service'] = schedule.str.extract(r'(?P<No_service>Closed)')['No_service'].copy()\n",
    "    time['Open'] = pd.to_datetime(time['Open']).dt.strftime('%H:%M')\n",
    "    time['Close'] = pd.to_datetime(time['Close']).dt.strftime('%H:%M')\n",
    "    filter = (time['No_service'] == 'Closed')\n",
    "    time.loc[filter,('Open', 'Close')] = time.loc[filter,('Open', 'Close')].fillna('Closed')\n",
    "    return time['Open'], time['Close']    \n"
   ]
  },
  {
   "cell_type": "code",
   "execution_count": null,
   "id": "53a08c11",
   "metadata": {},
   "outputs": [],
   "source": []
  },
  {
   "cell_type": "code",
   "execution_count": 119,
   "id": "b6ff13a6",
   "metadata": {},
   "outputs": [
    {
     "name": "stdout",
     "output_type": "stream",
     "text": [
      "x\n",
      "1     'hours': '5:30 AM to 8:00 PM'\n",
      "2                               NaN\n",
      "3     'hours': '5:00 AM to 8:00 PM'\n",
      "4                               NaN\n",
      "5     'hours': '5:00 AM to 8:00 PM'\n",
      "6                            Closed\n",
      "Name: B, dtype: object\n"
     ]
    },
    {
     "data": {
      "text/html": [
       "<div>\n",
       "<style scoped>\n",
       "    .dataframe tbody tr th:only-of-type {\n",
       "        vertical-align: middle;\n",
       "    }\n",
       "\n",
       "    .dataframe tbody tr th {\n",
       "        vertical-align: top;\n",
       "    }\n",
       "\n",
       "    .dataframe thead th {\n",
       "        text-align: right;\n",
       "    }\n",
       "</style>\n",
       "<table border=\"1\" class=\"dataframe\">\n",
       "  <thead>\n",
       "    <tr style=\"text-align: right;\">\n",
       "      <th></th>\n",
       "      <th>A</th>\n",
       "      <th>B</th>\n",
       "      <th>C</th>\n",
       "      <th>D</th>\n",
       "      <th>A_open</th>\n",
       "      <th>A_close</th>\n",
       "      <th>B_open</th>\n",
       "      <th>B_close</th>\n",
       "    </tr>\n",
       "    <tr>\n",
       "      <th>x</th>\n",
       "      <th></th>\n",
       "      <th></th>\n",
       "      <th></th>\n",
       "      <th></th>\n",
       "      <th></th>\n",
       "      <th></th>\n",
       "      <th></th>\n",
       "      <th></th>\n",
       "    </tr>\n",
       "  </thead>\n",
       "  <tbody>\n",
       "    <tr>\n",
       "      <th>1</th>\n",
       "      <td>[{'dayName': 'Today'</td>\n",
       "      <td>'hours': '5:30 AM to 8:00 PM'</td>\n",
       "      <td>'open': True</td>\n",
       "      <td>'holiday': ''</td>\n",
       "      <td>NaN</td>\n",
       "      <td>NaN</td>\n",
       "      <td>05:30</td>\n",
       "      <td>20:00</td>\n",
       "    </tr>\n",
       "    <tr>\n",
       "      <th>2</th>\n",
       "      <td>NaN</td>\n",
       "      <td>NaN</td>\n",
       "      <td>NaN</td>\n",
       "      <td>NaN</td>\n",
       "      <td>NaN</td>\n",
       "      <td>NaN</td>\n",
       "      <td>NaN</td>\n",
       "      <td>NaN</td>\n",
       "    </tr>\n",
       "    <tr>\n",
       "      <th>3</th>\n",
       "      <td>[{'dayName': 'Today'</td>\n",
       "      <td>'hours': '5:00 AM to 8:00 PM'</td>\n",
       "      <td>'open': True</td>\n",
       "      <td>'holiday': ''</td>\n",
       "      <td>NaN</td>\n",
       "      <td>NaN</td>\n",
       "      <td>05:00</td>\n",
       "      <td>20:00</td>\n",
       "    </tr>\n",
       "    <tr>\n",
       "      <th>4</th>\n",
       "      <td>NaN</td>\n",
       "      <td>NaN</td>\n",
       "      <td>NaN</td>\n",
       "      <td>NaN</td>\n",
       "      <td>NaN</td>\n",
       "      <td>NaN</td>\n",
       "      <td>NaN</td>\n",
       "      <td>NaN</td>\n",
       "    </tr>\n",
       "    <tr>\n",
       "      <th>5</th>\n",
       "      <td>'dayName': 'Tomorrow'</td>\n",
       "      <td>'hours': '5:00 AM to 8:00 PM'</td>\n",
       "      <td>'open': True</td>\n",
       "      <td>'holiday': ''</td>\n",
       "      <td>NaN</td>\n",
       "      <td>NaN</td>\n",
       "      <td>05:00</td>\n",
       "      <td>20:00</td>\n",
       "    </tr>\n",
       "    <tr>\n",
       "      <th>6</th>\n",
       "      <td>NaN</td>\n",
       "      <td>Closed</td>\n",
       "      <td>NaN</td>\n",
       "      <td>NaN</td>\n",
       "      <td>NaN</td>\n",
       "      <td>NaN</td>\n",
       "      <td>Closed</td>\n",
       "      <td>Closed</td>\n",
       "    </tr>\n",
       "  </tbody>\n",
       "</table>\n",
       "</div>"
      ],
      "text/plain": [
       "                       A                               B              C  \\\n",
       "x                                                                         \n",
       "1   [{'dayName': 'Today'   'hours': '5:30 AM to 8:00 PM'   'open': True   \n",
       "2                    NaN                             NaN            NaN   \n",
       "3   [{'dayName': 'Today'   'hours': '5:00 AM to 8:00 PM'   'open': True   \n",
       "4                    NaN                             NaN            NaN   \n",
       "5  'dayName': 'Tomorrow'   'hours': '5:00 AM to 8:00 PM'   'open': True   \n",
       "6                    NaN                          Closed            NaN   \n",
       "\n",
       "                D  A_open  A_close  B_open B_close  \n",
       "x                                                   \n",
       "1   'holiday': ''     NaN      NaN   05:30   20:00  \n",
       "2             NaN     NaN      NaN     NaN     NaN  \n",
       "3   'holiday': ''     NaN      NaN   05:00   20:00  \n",
       "4             NaN     NaN      NaN     NaN     NaN  \n",
       "5   'holiday': ''     NaN      NaN   05:00   20:00  \n",
       "6             NaN     NaN      NaN  Closed  Closed  "
      ]
     },
     "execution_count": 119,
     "metadata": {},
     "output_type": "execute_result"
    }
   ],
   "source": [
    "test['B_open'], test['B_close'] = get_schedule(test['B'])\n",
    "test"
   ]
  },
  {
   "cell_type": "code",
   "execution_count": null,
   "id": "8f9f0aa8",
   "metadata": {},
   "outputs": [],
   "source": []
  }
 ],
 "metadata": {
  "kernelspec": {
   "display_name": "Python 3",
   "language": "python",
   "name": "python3"
  },
  "language_info": {
   "codemirror_mode": {
    "name": "ipython",
    "version": 3
   },
   "file_extension": ".py",
   "mimetype": "text/x-python",
   "name": "python",
   "nbconvert_exporter": "python",
   "pygments_lexer": "ipython3",
   "version": "3.8.8"
  }
 },
 "nbformat": 4,
 "nbformat_minor": 5
}
